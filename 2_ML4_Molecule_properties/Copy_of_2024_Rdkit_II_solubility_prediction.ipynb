{
  "nbformat": 4,
  "nbformat_minor": 0,
  "metadata": {
    "colab": {
      "provenance": []
    },
    "kernelspec": {
      "name": "python3",
      "display_name": "Python 3"
    },
    "language_info": {
      "name": "python"
    }
  },
  "cells": [
    {
      "cell_type": "markdown",
      "source": [
        "# Install rdkit\n",
        "\n",
        "using pypi or whatever install rdkit\n"
      ],
      "metadata": {
        "id": "VrUQnEXXvf2o"
      }
    },
    {
      "cell_type": "code",
      "metadata": {
        "id": "9qJCFDsxp3wJ",
        "colab": {
          "base_uri": "https://localhost:8080/"
        },
        "outputId": "ac67bbcd-4f8b-417c-f1ed-50e5bb162fa6"
      },
      "source": [
        "!pip install rdkit"
      ],
      "execution_count": null,
      "outputs": [
        {
          "output_type": "stream",
          "name": "stdout",
          "text": [
            "Collecting rdkit\n",
            "  Downloading rdkit-2024.3.5-cp310-cp310-manylinux_2_28_x86_64.whl.metadata (3.9 kB)\n",
            "Requirement already satisfied: numpy in /usr/local/lib/python3.10/dist-packages (from rdkit) (1.26.4)\n",
            "Requirement already satisfied: Pillow in /usr/local/lib/python3.10/dist-packages (from rdkit) (10.4.0)\n",
            "Downloading rdkit-2024.3.5-cp310-cp310-manylinux_2_28_x86_64.whl (33.1 MB)\n",
            "\u001b[2K   \u001b[90m━━━━━━━━━━━━━━━━━━━━━━━━━━━━━━━━━━━━━━━━\u001b[0m \u001b[32m33.1/33.1 MB\u001b[0m \u001b[31m22.8 MB/s\u001b[0m eta \u001b[36m0:00:00\u001b[0m\n",
            "\u001b[?25hInstalling collected packages: rdkit\n",
            "Successfully installed rdkit-2024.3.5\n"
          ]
        }
      ]
    },
    {
      "cell_type": "markdown",
      "metadata": {
        "id": "TYs-WClCqSsy"
      },
      "source": [
        "## Ex 1. Read molecules from SMILES\n",
        "\n",
        "SMILES (Simplified Molecular-Input Line-Entry System) is a popular method for specifying molecules with text string. The RDkit library provides utilities to read molecules from SMILES.\n",
        "\n",
        "\n",
        "Paracetamol (Acetaminophen) is a commonly used medicine that can help treat pain and reduce a high temperature. It's given by the chemical formula $ C_8H_9N O_2$ and its SMILES is \"CC(=O)NC1=CC=C(O)C=C1\".\n",
        "\n",
        "\n",
        "1. Create the paracetamol molecule from its SMILES using the rdkit.Chem.MolFromSmiles class.\n",
        "\n",
        "\n",
        "2. Visualize its structure (it's sufficient to print the paracetamol molecule or to use rdkit.Chem.Draw.MolToImage())\n",
        "\n",
        "\n",
        "3. Print out the number of atoms. Did you get 11 ? It should be 20 atoms ? Why ?\n",
        "\n",
        "\n",
        "\n",
        "4. Print out the list of atoms.\n",
        "\n",
        "\n",
        "5. Find the number of bonds.\n",
        "\n"
      ]
    },
    {
      "cell_type": "markdown",
      "source": [],
      "metadata": {
        "id": "Ox5y5AJFz2T2"
      }
    },
    {
      "cell_type": "code",
      "metadata": {
        "id": "ccbbFmLOqDJV",
        "colab": {
          "base_uri": "https://localhost:8080/",
          "height": 389
        },
        "outputId": "a7410076-9d15-4e19-b168-84f9eca9d687"
      },
      "source": [
        "from rdkit import Chem\n",
        "from rdkit.Chem import Draw\n",
        "from rdkit.Chem.Draw import MolToImage\n",
        "\n",
        "paracetamol = Chem.MolFromSmiles(\"CC(=O)NC1=CC=C(O)C=C1\")\n",
        "\n",
        "print(paracetamol.GetNumAtoms())\n",
        "print([element for element in paracetamol.GetAtoms()])\n",
        "print(paracetamol.GetNumBonds())\n",
        "\n",
        "MolToImage(paracetamol)"
      ],
      "execution_count": null,
      "outputs": [
        {
          "output_type": "stream",
          "name": "stdout",
          "text": [
            "11\n",
            "[<rdkit.Chem.rdchem.Atom object at 0x79e2a978c120>, <rdkit.Chem.rdchem.Atom object at 0x79e2a978c0b0>, <rdkit.Chem.rdchem.Atom object at 0x79e2a978c580>, <rdkit.Chem.rdchem.Atom object at 0x79e2a978c5f0>, <rdkit.Chem.rdchem.Atom object at 0x79e2a978c660>, <rdkit.Chem.rdchem.Atom object at 0x79e2a978c6d0>, <rdkit.Chem.rdchem.Atom object at 0x79e2a978c740>, <rdkit.Chem.rdchem.Atom object at 0x79e2a978c7b0>, <rdkit.Chem.rdchem.Atom object at 0x79e2a978c3c0>, <rdkit.Chem.rdchem.Atom object at 0x79e2a978c820>, <rdkit.Chem.rdchem.Atom object at 0x79e2a978c890>]\n",
            "11\n"
          ]
        },
        {
          "output_type": "execute_result",
          "data": {
            "text/plain": [
              "<PIL.PngImagePlugin.PngImageFile image mode=RGB size=300x300>"
            ],
            "image/png": "[encoded data removed]",
            "image/jpeg": "[encoded data removed]"
          },
          "metadata": {},
          "execution_count": 25
        }
      ]
    },
    {
      "cell_type": "markdown",
      "metadata": {
        "id": "5ch4vabFuReu"
      },
      "source": [
        "## Ex 2 Read data from chemical file format\n",
        "\n",
        "Apart SMILES, .SDF/ .Mol are also the common formats to save molecules. RDKit provides also functionalities to read these files.\n",
        "\n",
        "\n",
        "Morphine is an opioid agonist used for the relief of moderate to severe acute and chronic pain. The chemical information of this drug can be found at\n",
        "the following url: https://go.drugbank.com/structures/small_molecule_drugs/DB00295.sdf\n",
        "\n",
        "\n",
        "1. Download this file and save it in a folder.\n",
        "\n",
        "\n",
        "2. Read the morphine molecule from the file that you've downloaded using \"rdkit.Chem.SDMolSupplier\"\n",
        "\n",
        "\n",
        "3. With the help of rdkit.Chem.AllChem.GetMorganFingerprintAsBitVect, compute its fingerprint as a bit vector."
      ]
    },
    {
      "cell_type": "code",
      "metadata": {
        "id": "9VLF599Yv5V1",
        "colab": {
          "base_uri": "https://localhost:8080/",
          "height": 139
        },
        "outputId": "d60da78b-b372-4a77-e0e3-9220670b4d5a"
      },
      "source": [
        "from rdkit.Chem.AllChem import GetMorganFingerprintAsBitVect\n",
        "from rdkit.Chem import SDMolSupplier\n",
        "\n",
        "morphin = SDMolSupplier(\"DB00295.sdf\")[0]\n",
        "fp = GetMorganFingerprintAsBitVect(morphin, 2)\n",
        "fp.ToBitString()"
      ],
      "execution_count": null,
      "outputs": [
        {
          "output_type": "stream",
          "name": "stderr",
          "text": [
            "[15:25:10] DEPRECATION WARNING: please use MorganGenerator\n"
          ]
        },
        {
          "output_type": "execute_result",
          "data": {
            "text/plain": [
              "'00000000000000000000000000000000000000000000000000000000000000000001000000000100000000000000000000000000000000000000000000000000000000000000000000000000000000000000000000000000000000000000000000000000000000000001000000000000000000010000000000000000000000000000000000000000000000000000000000000000100000000000000100000000000000000000000000000000000000000000000000000000000000000000000000000000000000000000000000000100000000000000000000000000000000000000000000000000000000000000000000000010000000000100000000000000000000000000000000000000000000000000000000100000000000000100000000001001000000000000000000000000000000000000000000000000000000000000000000000000100000000000000000000000000000000000000000000000010000000000000000000000000000000000000000000010000000000000000000000000000000000000000000000000000000010000000000000000000000000000000000000000000000000000000000000000010000000000000000000000000000000000000000000000000000100000000100001000000000000000000000000000000000000000000000000000000000000000000000000000000100000000000000000001000000000000000001001000000000000000000000010000000000000000000000000000000000000000000000000000000000000100000000000000001000000001001000000000000000000000000000000000000000000000000000000000000010000000000000000000010000000000000000000000000000000000001000000000000000000000000000000000000000000000000000000000000000000000000000000000000010000000000000000000000000000000000000000000000000001000000000000000000000000000000000000000000100001000000000000000000000000000000000000000000000000000000000000000000000000000010000000000000000000000000000000000000000000010000100000000000000100000000000000000000000000000000000000000000000010000000000000000010000000000000000000000000000000000000000000000000000000000001000000000000000000000000000000000000000000000000000000000000000000000000000000000000000000000000000000000000000000000000001000000000000000000000000000000000000000000000000000000000000000000000000000000000000000000000000000000000010000000000000000000000000000000000000000000000000000000000000000000'"
            ],
            "application/vnd.google.colaboratory.intrinsic+json": {
              "type": "string"
            }
          },
          "metadata": {},
          "execution_count": 20
        }
      ]
    },
    {
      "cell_type": "markdown",
      "metadata": {
        "id": "gljbmF6p3RX8"
      },
      "source": [
        "## EX3. Fingerprints\n",
        "\n",
        "\n",
        "A chemical structure can be characterized by a set of numerical values known as molecular fingerprints. They may be 2D Fragment-based fingerprints presented by bit arrays of 0s and 1s wherein each bit position indicates the presence or absence of structural fragments.\n",
        "\n",
        "\n",
        "The RDKit has a variety of built-in functionality for generating molecular fingerprints and then using them to calculate molecular similarity. In this exercise, we will generate the fingerprints for parcetamol and aspirin that are two popular drugs used for pains.\n",
        "\n",
        "\n",
        "\n",
        "1. Compute the fingerprint of the paracetamol as bit vector by using the rdkit.AllChem.GetMorganFingerprintAsBitVectCompute Class. Convert it to a numpy vector. Known that Paracetamol's SMILES is \"\"CC(=O)OC1=CC=CC=C1C(O)=O\". Choose the number of bits nBits= 1024. Find the elements that are nonzero of the vector.\n",
        "\n",
        "2. Do the same thing for the aspirin. Aspirin's SMILES is \"CC(=O)NC1=CC=C(O)C=C1\".\n",
        "\n",
        "\n",
        "\n",
        "3. Using rdkit.DataStructs.DiceSimilarity(), compute the DiceSimilarity between the fingerprints of the paracetamol and the aspirin."
      ]
    },
    {
      "cell_type": "code",
      "metadata": {
        "id": "8PALjOz5232Z",
        "colab": {
          "base_uri": "https://localhost:8080/",
          "height": 139
        },
        "outputId": "2e3bea21-c5b1-4f31-c47f-d08e04171c9b"
      },
      "source": [
        "new_paracetamol = Chem.MolFromSmiles(\"CC(=O)OC1=CC=CC=C1C(O)=O\")\n",
        "new_paracetamol_fp = GetMorganFingerprintAsBitVect(new_paracetamol, 2, nBits=1024)\n",
        "new_paracetamol_fp.ToBitString()\n"
      ],
      "execution_count": null,
      "outputs": [
        {
          "output_type": "stream",
          "name": "stderr",
          "text": [
            "[15:26:49] DEPRECATION WARNING: please use MorganGenerator\n"
          ]
        },
        {
          "output_type": "execute_result",
          "data": {
            "text/plain": [
              "'0000000000010000000000010000000001000000000000000000000000000000100000000000000000000000000000000000000000000000000000000000000000000000000000000000000000000000000000000000000100000000000000000000000000000000000000000000000000000000000000000000000000000000000000000000000000000000000000000000000000000000000000000000000000000000000000000000000000000000000010000000000000000000000000000010010000000000000000000000000000000001000000000000000000001000000000001000000000000000000000000000000000000000000000000000000000000000000000000000000000000000000000000000000000000000000000000000000000000000100000000000000000000000000000000000000000000000000000000010000000000000000000000000000000000000000000010000000001000000000000000000001000000000000000000000000100000000000000000000000000000000000000000000000000000001000000000000000000000000000000000000000001000000000000000000000000000000000000000000010000000000000001000000000000000000000000000000000000100000000000000000000100000000000000000000000000000000000000000000000001000000'"
            ],
            "application/vnd.google.colaboratory.intrinsic+json": {
              "type": "string"
            }
          },
          "metadata": {},
          "execution_count": 21
        }
      ]
    },
    {
      "cell_type": "markdown",
      "metadata": {
        "id": "GZXsjZGw3ofC"
      },
      "source": [
        "## EX 4: Descriptors\n",
        "\n",
        "Molecules are also described by a set of physiochemical descriptors. They should be the log partition coefficient, the polar surface area ... that describe the molecule's structure.\n",
        "\n",
        "\n",
        "RDKit provides utilities that allow us to compute descriptor of molecules.\n",
        "Using the rdkit.ML.Descriptors.MoleculeDescriptors.MolecularDescriptorCalculator class, compute the descriptor for paracetamol molecule from SMILES string. Note that SMILES string for paracetamol is \"CC(=O)NC1=CC=C(O)C=C1\"\n",
        "\n"
      ]
    },
    {
      "cell_type": "code",
      "metadata": {
        "id": "vQcACF5K3l1y"
      },
      "source": [],
      "execution_count": null,
      "outputs": []
    },
    {
      "cell_type": "markdown",
      "metadata": {
        "id": "SvHtYagP31vo"
      },
      "source": [
        "## Ex5: SMART\n",
        "\n",
        "In many commonly used applications, we need to determine whether atoms in a molecule match a particular pattern. It can be used for filtering structures or identifying substructures that are associated with toxicological problem.\n",
        "\n",
        "SMART us an extension of the SMILES language that can be used to create queries.\n",
        "\n",
        "1. Find molecules in the following list named \"smiles_list\" that contain the \"CCC\" pattern (you can use the GetSubstructMatch class).\n",
        "\n",
        "\n",
        "2. Highlight the pattern \"CCC\" in these molecules.\n",
        "\n",
        "\n",
        "3. Do the same thing ex 1 but for the pattern \"C(=O)N\"."
      ]
    },
    {
      "cell_type": "code",
      "metadata": {
        "id": "mXqKwAO03xQi"
      },
      "source": [],
      "execution_count": null,
      "outputs": []
    },
    {
      "cell_type": "markdown",
      "metadata": {
        "id": "UxbRPmkS4LSq"
      },
      "source": [
        "## Ex6: Machine learning with RDkit - Predict solubility\n",
        "\n",
        "In this exercise, we will use machine learning to predict solubility of molecules. For this purpose, we will borrow a dataset from rdkit that is originated from the Huuskonen dataset. We will try to predict Aqueous Solubility for molecules that is known as \"logS\".\n",
        "\n",
        "\n",
        "This exercise is divided into 3 parts: Preparing a dataset, training a model and preparing dataset for prediction and applying a predictive model.\n",
        "\n"
      ]
    },
    {
      "cell_type": "markdown",
      "metadata": {
        "id": "FpqVGPg_4QaQ"
      },
      "source": [
        "## EX6.I Preparing dataset\n",
        "\n",
        "Preparing dataset requires a few steps:\n",
        "\n",
        "\n",
        "1. Download file from the following link: https://raw.githubusercontent.com/rdkit/rdkit/master/Docs/Book/data/solubility.train.sdf.\n",
        "\n",
        "\n",
        "2. With the help of rdkit.Chem.SDMolSupplier, get list of molecules contained in this file. You should call this list as **molecule_list**. The option **removeHs=False** should be chosen.\n",
        "\n",
        "\n",
        "3. Write a function named **calculate_descriptors(mol)** that allows us to calculate descriptors of a molecule. This function takes a Rdkit molecule as input and returns an array vector of descriptors.\n",
        "\n",
        "\n",
        "4. Apply the function **caluclate_descriptors** to the list of molecules **molecule_list** and store the result in a dataframe named **df**. Look at few rows of **df** to see whether the descriptors are calculated.\n",
        "\n",
        "\n",
        "5. For each molecule from this dataset, we can get the aqueous solubility (logS) via attribute **getProp('SOL')**. Create a list that contains the aqueous solubility of all molecules from the **molecule_list** list. You should call this list by **labels**. Remember to convert these values to float format.\n",
        "\n",
        "\n",
        "6. Plot the histogram of the \"labels\" list to see the distribution of the solubility of molecules. Do you have some comments about the aqueous solubility of molecules ?\n",
        "\n"
      ]
    },
    {
      "cell_type": "code",
      "metadata": {
        "colab": {
          "base_uri": "https://localhost:8080/"
        },
        "id": "uAuDoU7u3_k4",
        "outputId": "3bc721ba-ff2f-47fb-b13a-5c95853a8d55"
      },
      "source": [],
      "execution_count": null,
      "outputs": [
        {
          "output_type": "stream",
          "text": [
            "--2021-08-23 07:20:42--  https://raw.githubusercontent.com/rdkit/rdkit/master/Docs/Book/data/solubility.train.sdf\n",
            "Resolving raw.githubusercontent.com (raw.githubusercontent.com)... 185.199.108.133, 185.199.109.133, 185.199.110.133, ...\n",
            "Connecting to raw.githubusercontent.com (raw.githubusercontent.com)|185.199.108.133|:443... connected.\n",
            "HTTP request sent, awaiting response... 200 OK\n",
            "Length: 1376487 (1.3M) [text/plain]\n",
            "Saving to: ‘solubility.train.sdf’\n",
            "\n",
            "solubility.train.sd 100%[===================>]   1.31M  --.-KB/s    in 0.05s   \n",
            "\n",
            "2021-08-23 07:20:43 (27.0 MB/s) - ‘solubility.train.sdf’ saved [1376487/1376487]\n",
            "\n"
          ],
          "name": "stdout"
        }
      ]
    },
    {
      "cell_type": "code",
      "source": [],
      "metadata": {
        "id": "YKgrdNjowHCW"
      },
      "execution_count": null,
      "outputs": []
    },
    {
      "cell_type": "markdown",
      "metadata": {
        "id": "KRtVHEjH5M9m"
      },
      "source": [
        "## Ex6.II Feature Engineering and Training a model of regression.\n",
        "\n",
        "Now, we have the **df** dataframe that contains the descriptors for molecules and the **labels** list that contains the solvant property of molecules.\n",
        "\n",
        "1. Check the dataframe **df** to see whether it contains NaN values. How many row contained NaN values are there in the dataframe **df** ? Remove these rows from  **df** and **labels**.\n",
        "\n",
        "\n",
        "2. Apply the MinMaxScaler to the dataframe **df** to normalize the data.\n",
        "\n",
        "\n",
        "3. Construct and train a regression model.\n",
        "\n",
        "\n",
        "4. Calculate the square root error for the dataset"
      ]
    },
    {
      "cell_type": "code",
      "metadata": {
        "id": "gWvfR-8x5H84"
      },
      "source": [],
      "execution_count": null,
      "outputs": []
    },
    {
      "cell_type": "markdown",
      "metadata": {
        "id": "kESW-Pem5zPX"
      },
      "source": [
        "## Ex6.III Prepare data for test  and test model\n",
        "\n",
        "\n",
        "1. Download file from : https://github.com/rdkit/rdkit/blob/master/Docs/Book/data/solubility.test.sdf\n",
        "\n",
        "2. Read molecules from this file and store them in a list named **list_molecule_test**.\n",
        "\n",
        "\n",
        "3. Take a molecule from the **list_molecule_test** and then calculate its descriptions thank to the **calculate_descriptors(mol)** function that you've coded above.\n",
        "\n",
        "\n",
        "4. Apply **minmaxscaler** to these descriptors. Note that **minmaxscaler**  is one that you've created at Ex6.II.\n",
        "\n",
        "\n",
        "5. Use the model that you've trained to predict the aqueous solubility (logS) of the molecule. Compare to the real logS value of the molecule.\n",
        "\n",
        "6. (Optional) Calculate the mean square root error of the model for this dataset.\n",
        "\n",
        "\n",
        "\n",
        "Note: If there exists problem of reading the file solubility.test.sdf as\n",
        "\"RDKit ERROR: [09:28:36] ERROR: moving to the beginning of the next molecule\n",
        "RDKit ERROR: [09:32:48] ERROR: Counts line too short: '' on line4\"\n",
        "so, go to the url, click \"raw\" and save this file by hand. The error will be gone away\n"
      ]
    },
    {
      "cell_type": "code",
      "metadata": {
        "id": "SMo-oKP-Rhv-"
      },
      "source": [],
      "execution_count": null,
      "outputs": []
    }
  ]
}